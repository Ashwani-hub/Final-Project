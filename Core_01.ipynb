{
 "cells": [
  {
   "cell_type": "markdown",
   "metadata": {
    "slideshow": {
     "slide_type": "slide"
    }
   },
   "source": [
    "# Logistic Regression\n",
    "\n",
    "Logistic regression is a statistical method for predicting binary outcomes from data.\n",
    "\n",
    "Examples of this are \"yes\" vs. \"no\" or \"young\" vs. \"old\". \n",
    "\n",
    "These are categories that translate to a probability of being a 0 or a 1.\n",
    "\n",
    "Source: [Logistic Regression](https://towardsdatascience.com/real-world-implementation-of-logistic-regression-5136cefb8125)"
   ]
  },
  {
   "cell_type": "markdown",
   "metadata": {
    "slideshow": {
     "slide_type": "subslide"
    }
   },
   "source": [
    "We can calculate the logistic regression by applying an activation function as the final step to our linear model. \n",
    "\n",
    "This converts the linear regression output to a probability."
   ]
  },
  {
   "cell_type": "code",
   "execution_count": 12,
   "metadata": {
    "slideshow": {
     "slide_type": "subslide"
    }
   },
   "outputs": [],
   "source": [
    "%matplotlib inline\n",
    "import matplotlib.pyplot as plt\n",
    "import pandas as pd\n",
    "import os\n",
    "import csv"
   ]
  },
  {
   "cell_type": "markdown",
   "metadata": {
    "slideshow": {
     "slide_type": "subslide"
    }
   },
   "source": [
    "Generate some data"
   ]
  },
  {
   "cell_type": "code",
   "execution_count": 20,
   "metadata": {
    "slideshow": {
     "slide_type": "fragment"
    }
   },
   "outputs": [
    {
     "data": {
      "text/html": [
       "<div>\n",
       "<style scoped>\n",
       "    .dataframe tbody tr th:only-of-type {\n",
       "        vertical-align: middle;\n",
       "    }\n",
       "\n",
       "    .dataframe tbody tr th {\n",
       "        vertical-align: top;\n",
       "    }\n",
       "\n",
       "    .dataframe thead th {\n",
       "        text-align: right;\n",
       "    }\n",
       "</style>\n",
       "<table border=\"1\" class=\"dataframe\">\n",
       "  <thead>\n",
       "    <tr style=\"text-align: right;\">\n",
       "      <th></th>\n",
       "      <th>Education</th>\n",
       "      <th>Experience</th>\n",
       "      <th>Income</th>\n",
       "    </tr>\n",
       "  </thead>\n",
       "  <tbody>\n",
       "    <tr>\n",
       "      <th>0</th>\n",
       "      <td>0</td>\n",
       "      <td>0</td>\n",
       "      <td>18000</td>\n",
       "    </tr>\n",
       "    <tr>\n",
       "      <th>1</th>\n",
       "      <td>0</td>\n",
       "      <td>0</td>\n",
       "      <td>23000</td>\n",
       "    </tr>\n",
       "    <tr>\n",
       "      <th>2</th>\n",
       "      <td>0</td>\n",
       "      <td>1</td>\n",
       "      <td>20000</td>\n",
       "    </tr>\n",
       "    <tr>\n",
       "      <th>3</th>\n",
       "      <td>0</td>\n",
       "      <td>1</td>\n",
       "      <td>24000</td>\n",
       "    </tr>\n",
       "    <tr>\n",
       "      <th>4</th>\n",
       "      <td>0</td>\n",
       "      <td>1</td>\n",
       "      <td>22000</td>\n",
       "    </tr>\n",
       "  </tbody>\n",
       "</table>\n",
       "</div>"
      ],
      "text/plain": [
       "   Education  Experience  Income\n",
       "0          0           0   18000\n",
       "1          0           0   23000\n",
       "2          0           1   20000\n",
       "3          0           1   24000\n",
       "4          0           1   22000"
      ]
     },
     "execution_count": 20,
     "metadata": {},
     "output_type": "execute_result"
    }
   ],
   "source": [
    "df_raw = pd.read_csv('dummy_data.csv')\n",
    "df = df_raw[['Education', 'Experience', 'Income']]\n",
    "df.head()"
   ]
  },
  {
   "cell_type": "code",
   "execution_count": 21,
   "metadata": {
    "slideshow": {
     "slide_type": "subslide"
    }
   },
   "outputs": [
    {
     "data": {
      "text/plain": [
       "Text(0, 0.5, 'Income (USD)')"
      ]
     },
     "execution_count": 21,
     "metadata": {},
     "output_type": "execute_result"
    },
    {
     "data": {
      "image/png": "[encoded data removed]",
      "text/plain": [
       "<Figure size 432x288 with 1 Axes>"
      ]
     },
     "metadata": {
      "needs_background": "light"
     },
     "output_type": "display_data"
    }
   ],
   "source": [
    "# Visualizing both classes\n",
    "plt.scatter(df.Education, df.Income)\n",
    "plt.xlabel(\"Education (years post-sec)\")\n",
    "plt.ylabel(\"Income (USD)\")"
   ]
  },
  {
   "cell_type": "markdown",
   "metadata": {
    "slideshow": {
     "slide_type": "subslide"
    }
   },
   "source": [
    "Split our data into training and testing data"
   ]
  },
  {
   "cell_type": "code",
   "execution_count": 35,
   "metadata": {
    "slideshow": {
     "slide_type": "fragment"
    }
   },
   "outputs": [],
   "source": []
  },
  {
   "cell_type": "markdown",
   "metadata": {
    "slideshow": {
     "slide_type": "subslide"
    }
   },
   "source": [
    "Create a logistic regression model"
   ]
  },
  {
   "cell_type": "code",
   "execution_count": 43,
   "metadata": {
    "slideshow": {
     "slide_type": "fragment"
    }
   },
   "outputs": [],
   "source": [
    "from sklearn.linear_model import LogisticRegression\n",
    "from sklearn.model_selection import train_test_split\n",
    "\n",
    "classifier = LogisticRegression(solver = 'lbfgs', max_iter=10000)\n",
    "\n",
    "X = df[['Education', 'Experience']]\n",
    "y = df['Income']\n",
    "X_train, X_test, y_train, y_test = train_test_split(X, y, random_state=1)"
   ]
  },
  {
   "cell_type": "markdown",
   "metadata": {
    "slideshow": {
     "slide_type": "subslide"
    }
   },
   "source": [
    "Fit (train) our model by using the training data"
   ]
  },
  {
   "cell_type": "code",
   "execution_count": 44,
   "metadata": {
    "slideshow": {
     "slide_type": "fragment"
    }
   },
   "outputs": [
    {
     "data": {
      "text/plain": [
       "LogisticRegression(max_iter=10000)"
      ]
     },
     "execution_count": 44,
     "metadata": {},
     "output_type": "execute_result"
    }
   ],
   "source": [
    "classifier.fit(X_train, y_train)"
   ]
  },
  {
   "cell_type": "markdown",
   "metadata": {
    "slideshow": {
     "slide_type": "subslide"
    }
   },
   "source": [
    "Validate the model by using the test data"
   ]
  },
  {
   "cell_type": "code",
   "execution_count": 45,
   "metadata": {
    "slideshow": {
     "slide_type": "fragment"
    }
   },
   "outputs": [
    {
     "name": "stdout",
     "output_type": "stream",
     "text": [
      "Training Data Score: 0.1297539149888143\n",
      "Testing Data Score: 0.04697986577181208\n"
     ]
    }
   ],
   "source": [
    "print(f\"Training Data Score: {classifier.score(X_train, y_train)}\")\n",
    "print(f\"Testing Data Score: {classifier.score(X_test, y_test)}\")"
   ]
  },
  {
   "cell_type": "markdown",
   "metadata": {
    "slideshow": {
     "slide_type": "subslide"
    }
   },
   "source": [
    "Make predictions"
   ]
  },
  {
   "cell_type": "code",
   "execution_count": 50,
   "metadata": {
    "slideshow": {
     "slide_type": "fragment"
    }
   },
   "outputs": [
    {
     "name": "stdout",
     "output_type": "stream",
     "text": [
      "Classes are either 0 (purple) or 1 (yellow)\n",
      "The new point was classified as: [ 24000  24000  24000  24000  24000  24000  25000  25000  25000  25000\n",
      "  25000  25000  25000  25000  25000  25000  25000  25000  53000  53000\n",
      "  53000  53000  53000  68000  68000  68000 156000 156000 156000 156000\n",
      " 156000  32000  32000  32000  32000  32000  32000  32000  32000  32000\n",
      "  32000  32000  32000  32000  34000  34000  34000  34000  34000  34000\n",
      "  34000  34000  34000  53000  53000  53000  53000  53000  53000  53000\n",
      "  53000  53000  53000  73000  73000  73000 156000 156000 212000 212000\n",
      " 283000 283000 283000 283000 283000 283000 283000 283000 283000 283000\n",
      " 283000 283000 283000  32000  32000  32000  32000  32000  32000  32000\n",
      "  32000  32000  32000  32000  32000  32000  32000  32000  32000  32000\n",
      "  32000  32000  32000  32000  42000  42000  42000  42000  42000  42000\n",
      "  42000  55000  55000  55000  55000  55000  55000  55000  55000  55000\n",
      "  55000  55000  73000  73000  73000  73000  73000  73000  73000  73000\n",
      "  73000  73000  73000  73000  73000  73000 212000 212000 212000 212000\n",
      " 212000 212000 212000 212000 212000 212000 283000 283000 283000 283000\n",
      " 283000 283000 283000 283000 283000 283000 283000 283000 283000 283000\n",
      " 283000 283000 283000 283000 283000  32000  32000  32000  32000  32000\n",
      "  32000  32000  32000  32000  32000  42000  42000  42000  42000  42000\n",
      "  42000  42000  42000  42000  42000  55000  55000  55000  55000  55000\n",
      "  55000  55000  55000  73000  73000  73000  73000  73000  73000  73000\n",
      "  73000  73000  73000  73000  73000  73000  73000  73000  73000  73000\n",
      "  73000  73000  73000  73000  73000  73000  73000  73000 283000 283000\n",
      " 283000 283000 283000 283000 283000 283000 283000 283000 283000 283000\n",
      " 283000 283000 283000 283000 283000 283000 283000 283000 283000 283000\n",
      " 283000 283000 283000 283000  32000  32000  32000  32000  32000  32000\n",
      "  32000  32000  32000  42000  42000  42000  42000  42000  42000  42000\n",
      "  42000  42000  42000  42000  42000  42000  42000  42000  42000  42000\n",
      "  42000  42000  42000  42000  42000  42000  42000  42000  42000  42000\n",
      "  42000  42000  42000  42000  42000  42000  42000  42000  42000  42000\n",
      "  42000  42000  42000  49000  49000  49000  49000  49000  49000  49000\n",
      "  49000  49000  49000  49000  49000  49000  49000  49000  49000  49000\n",
      "  49000  49000  49000  49000  49000  49000  55000  55000  55000  55000\n",
      "  55000  55000  55000  55000  55000  55000  55000  55000  55000  55000\n",
      "  55000  73000  73000  73000  73000  73000  73000  73000  73000  73000\n",
      "  73000  73000  73000  73000  73000  73000  73000  73000  73000  73000\n",
      "  73000  73000  73000  73000  73000  73000  73000  73000  73000  73000\n",
      "  73000  73000  73000  73000  73000  73000  73000  73000  73000 283000\n",
      " 283000 283000 283000 283000 283000 283000 283000 283000 283000 283000\n",
      " 283000 283000 283000 283000 283000 283000 283000 283000 283000 283000\n",
      " 283000 283000 283000 283000 283000 283000 283000 283000 283000 283000\n",
      " 283000 283000 283000 283000 283000 283000 283000 283000 283000 283000\n",
      " 283000 283000 283000 283000 283000 283000 283000 283000 283000 283000\n",
      " 283000 283000 283000 283000 283000 283000 283000 283000 283000 283000\n",
      " 283000 283000 283000 283000 283000  42000  42000  42000  42000  42000\n",
      "  42000  42000  42000  42000  42000  42000  42000  42000  42000  42000\n",
      "  42000  42000  42000  42000  42000  42000  42000  42000  42000  49000\n",
      "  49000  49000  49000  49000  49000  49000  49000  49000  49000  49000\n",
      "  49000  49000  63000  63000  63000  63000  63000  63000  63000  63000\n",
      "  63000  63000  63000  63000  63000  73000  73000  73000  73000  73000\n",
      "  73000  73000  73000  73000  73000  73000  73000  73000  73000  73000\n",
      "  73000  73000  73000  73000  73000  73000  73000  73000  73000  73000\n",
      "  73000  73000  73000 283000 283000 283000 283000 283000 283000 283000\n",
      " 283000 283000 283000 283000 283000 283000 283000 283000 283000 283000\n",
      " 283000 283000 283000 283000 283000 283000 283000 283000 283000 283000\n",
      " 283000 283000 283000 283000 283000 283000 283000 283000 283000 283000\n",
      " 283000  42000  42000  42000  49000  49000  49000  49000  59000  59000\n",
      "  73000  73000  73000 154000 344000 344000 344000 283000 283000 283000\n",
      "  42000  42000  59000  59000  59000  59000  73000  73000 154000 344000\n",
      " 344000 344000 344000  59000  59000  73000 344000 344000 432000  64000\n",
      " 154000 432000 432000  99000 108000 432000]\n"
     ]
    }
   ],
   "source": [
    "# Predict the class (purple or yellow) of the new data point\n",
    "predictions = classifier.predict(df[['Experience', 'Education']])\n",
    "print(\"Classes are either 0 (purple) or 1 (yellow)\")\n",
    "print(f\"The new point was classified as: {predictions}\")"
   ]
  },
  {
   "cell_type": "code",
   "execution_count": 51,
   "metadata": {
    "slideshow": {
     "slide_type": "subslide"
    }
   },
   "outputs": [
    {
     "data": {
      "text/html": [
       "<div>\n",
       "<style scoped>\n",
       "    .dataframe tbody tr th:only-of-type {\n",
       "        vertical-align: middle;\n",
       "    }\n",
       "\n",
       "    .dataframe tbody tr th {\n",
       "        vertical-align: top;\n",
       "    }\n",
       "\n",
       "    .dataframe thead th {\n",
       "        text-align: right;\n",
       "    }\n",
       "</style>\n",
       "<table border=\"1\" class=\"dataframe\">\n",
       "  <thead>\n",
       "    <tr style=\"text-align: right;\">\n",
       "      <th></th>\n",
       "      <th>Prediction</th>\n",
       "      <th>Actual</th>\n",
       "    </tr>\n",
       "  </thead>\n",
       "  <tbody>\n",
       "    <tr>\n",
       "      <th>274</th>\n",
       "      <td>53000</td>\n",
       "      <td>53000</td>\n",
       "    </tr>\n",
       "    <tr>\n",
       "      <th>285</th>\n",
       "      <td>55000</td>\n",
       "      <td>65000</td>\n",
       "    </tr>\n",
       "    <tr>\n",
       "      <th>173</th>\n",
       "      <td>34000</td>\n",
       "      <td>30000</td>\n",
       "    </tr>\n",
       "    <tr>\n",
       "      <th>452</th>\n",
       "      <td>55000</td>\n",
       "      <td>59000</td>\n",
       "    </tr>\n",
       "    <tr>\n",
       "      <th>214</th>\n",
       "      <td>59000</td>\n",
       "      <td>60000</td>\n",
       "    </tr>\n",
       "    <tr>\n",
       "      <th>...</th>\n",
       "      <td>...</td>\n",
       "      <td>...</td>\n",
       "    </tr>\n",
       "    <tr>\n",
       "      <th>76</th>\n",
       "      <td>64000</td>\n",
       "      <td>60000</td>\n",
       "    </tr>\n",
       "    <tr>\n",
       "      <th>241</th>\n",
       "      <td>138000</td>\n",
       "      <td>117000</td>\n",
       "    </tr>\n",
       "    <tr>\n",
       "      <th>417</th>\n",
       "      <td>138000</td>\n",
       "      <td>138000</td>\n",
       "    </tr>\n",
       "    <tr>\n",
       "      <th>419</th>\n",
       "      <td>138000</td>\n",
       "      <td>158000</td>\n",
       "    </tr>\n",
       "    <tr>\n",
       "      <th>68</th>\n",
       "      <td>59000</td>\n",
       "      <td>53000</td>\n",
       "    </tr>\n",
       "  </tbody>\n",
       "</table>\n",
       "<p>149 rows × 2 columns</p>\n",
       "</div>"
      ],
      "text/plain": [
       "     Prediction  Actual\n",
       "274       53000   53000\n",
       "285       55000   65000\n",
       "173       34000   30000\n",
       "452       55000   59000\n",
       "214       59000   60000\n",
       "..          ...     ...\n",
       "76        64000   60000\n",
       "241      138000  117000\n",
       "417      138000  138000\n",
       "419      138000  158000\n",
       "68        59000   53000\n",
       "\n",
       "[149 rows x 2 columns]"
      ]
     },
     "execution_count": 51,
     "metadata": {},
     "output_type": "execute_result"
    }
   ],
   "source": [
    "predictions = classifier.predict(X_test)\n",
    "pd.DataFrame({\"Prediction\": predictions, \"Actual\": y_test})"
   ]
  },
  {
   "cell_type": "code",
   "execution_count": null,
   "metadata": {},
   "outputs": [],
   "source": []
  }
 ],
 "metadata": {
  "interpreter": {
   "hash": "319c24ade14b7873a3f936c1569cf8c1853592b8350107cb8f60c9b2a2771b37"
  },
  "kernelspec": {
   "display_name": "Python 3",
   "language": "python",
   "name": "python3"
  },
  "language_info": {
   "codemirror_mode": {
    "name": "ipython",
    "version": 3
   },
   "file_extension": ".py",
   "mimetype": "text/x-python",
   "name": "python",
   "nbconvert_exporter": "python",
   "pygments_lexer": "ipython3",
   "version": "3.8.8"
  },
  "varInspector": {
   "cols": {
    "lenName": 16,
    "lenType": 16,
    "lenVar": 40
   },
   "kernels_config": {
    "python": {
     "delete_cmd_postfix": "",
     "delete_cmd_prefix": "del ",
     "library": "var_list.py",
     "varRefreshCmd": "print(var_dic_list())"
    },
    "r": {
     "delete_cmd_postfix": ") ",
     "delete_cmd_prefix": "rm(",
     "library": "var_list.r",
     "varRefreshCmd": "cat(var_dic_list()) "
    }
   },
   "types_to_exclude": [
    "module",
    "function",
    "builtin_function_or_method",
    "instance",
    "_Feature"
   ],
   "window_display": false
  }
 },
 "nbformat": 4,
 "nbformat_minor": 2
}
