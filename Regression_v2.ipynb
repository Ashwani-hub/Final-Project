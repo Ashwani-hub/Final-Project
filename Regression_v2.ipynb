{
 "cells": [
  {
   "cell_type": "code",
   "execution_count": 1,
   "metadata": {},
   "outputs": [],
   "source": [
    "import pandas as pd\n",
    "from pathlib import Path\n",
    "import matplotlib.pyplot as plt\n",
    "from sklearn.linear_model import LinearRegression\n",
    "import numpy as np"
   ]
  },
  {
   "cell_type": "code",
   "execution_count": 2,
   "metadata": {},
   "outputs": [
    {
     "data": {
      "text/html": [
       "<div>\n",
       "<style scoped>\n",
       "    .dataframe tbody tr th:only-of-type {\n",
       "        vertical-align: middle;\n",
       "    }\n",
       "\n",
       "    .dataframe tbody tr th {\n",
       "        vertical-align: top;\n",
       "    }\n",
       "\n",
       "    .dataframe thead th {\n",
       "        text-align: right;\n",
       "    }\n",
       "</style>\n",
       "<table border=\"1\" class=\"dataframe\">\n",
       "  <thead>\n",
       "    <tr style=\"text-align: right;\">\n",
       "      <th></th>\n",
       "      <th>PPSORT</th>\n",
       "      <th>AGEIMM</th>\n",
       "      <th>BedRm</th>\n",
       "      <th>CMA</th>\n",
       "      <th>CONDO</th>\n",
       "      <th>COW</th>\n",
       "      <th>DIST</th>\n",
       "      <th>GENSTAT</th>\n",
       "      <th>HHSIZE</th>\n",
       "      <th>IMMCAT5</th>\n",
       "      <th>...</th>\n",
       "      <th>Wages</th>\n",
       "      <th>WKSWRK</th>\n",
       "      <th>aboriginal</th>\n",
       "      <th>age</th>\n",
       "      <th>STEM</th>\n",
       "      <th>YrEd</th>\n",
       "      <th>PrMinWage_V</th>\n",
       "      <th>PrMinWage_Vstat</th>\n",
       "      <th>PartTime</th>\n",
       "      <th>Married</th>\n",
       "    </tr>\n",
       "  </thead>\n",
       "  <tbody>\n",
       "    <tr>\n",
       "      <th>0</th>\n",
       "      <td>218995</td>\n",
       "      <td>9</td>\n",
       "      <td>1</td>\n",
       "      <td>835</td>\n",
       "      <td>1</td>\n",
       "      <td>4</td>\n",
       "      <td>7</td>\n",
       "      <td>1</td>\n",
       "      <td>2</td>\n",
       "      <td>21</td>\n",
       "      <td>...</td>\n",
       "      <td>2000</td>\n",
       "      <td>44.0</td>\n",
       "      <td>0</td>\n",
       "      <td>47</td>\n",
       "      <td>0</td>\n",
       "      <td>18</td>\n",
       "      <td>11.20</td>\n",
       "      <td>11.20</td>\n",
       "      <td>0</td>\n",
       "      <td>1</td>\n",
       "    </tr>\n",
       "    <tr>\n",
       "      <th>1</th>\n",
       "      <td>671467</td>\n",
       "      <td>0</td>\n",
       "      <td>3</td>\n",
       "      <td>933</td>\n",
       "      <td>0</td>\n",
       "      <td>1</td>\n",
       "      <td>7</td>\n",
       "      <td>3</td>\n",
       "      <td>5</td>\n",
       "      <td>1</td>\n",
       "      <td>...</td>\n",
       "      <td>28000</td>\n",
       "      <td>50.5</td>\n",
       "      <td>0</td>\n",
       "      <td>37</td>\n",
       "      <td>0</td>\n",
       "      <td>14</td>\n",
       "      <td>10.45</td>\n",
       "      <td>10.45</td>\n",
       "      <td>0</td>\n",
       "      <td>1</td>\n",
       "    </tr>\n",
       "    <tr>\n",
       "      <th>2</th>\n",
       "      <td>112607</td>\n",
       "      <td>0</td>\n",
       "      <td>2</td>\n",
       "      <td>462</td>\n",
       "      <td>0</td>\n",
       "      <td>1</td>\n",
       "      <td>22</td>\n",
       "      <td>2</td>\n",
       "      <td>3</td>\n",
       "      <td>1</td>\n",
       "      <td>...</td>\n",
       "      <td>36000</td>\n",
       "      <td>50.5</td>\n",
       "      <td>0</td>\n",
       "      <td>27</td>\n",
       "      <td>1</td>\n",
       "      <td>13</td>\n",
       "      <td>10.75</td>\n",
       "      <td>10.75</td>\n",
       "      <td>0</td>\n",
       "      <td>1</td>\n",
       "    </tr>\n",
       "    <tr>\n",
       "      <th>3</th>\n",
       "      <td>153693</td>\n",
       "      <td>9</td>\n",
       "      <td>2</td>\n",
       "      <td>535</td>\n",
       "      <td>0</td>\n",
       "      <td>1</td>\n",
       "      <td>12</td>\n",
       "      <td>1</td>\n",
       "      <td>4</td>\n",
       "      <td>21</td>\n",
       "      <td>...</td>\n",
       "      <td>80000</td>\n",
       "      <td>50.5</td>\n",
       "      <td>0</td>\n",
       "      <td>52</td>\n",
       "      <td>0</td>\n",
       "      <td>14</td>\n",
       "      <td>11.25</td>\n",
       "      <td>11.25</td>\n",
       "      <td>0</td>\n",
       "      <td>1</td>\n",
       "    </tr>\n",
       "    <tr>\n",
       "      <th>4</th>\n",
       "      <td>468158</td>\n",
       "      <td>0</td>\n",
       "      <td>2</td>\n",
       "      <td>535</td>\n",
       "      <td>0</td>\n",
       "      <td>1</td>\n",
       "      <td>2</td>\n",
       "      <td>2</td>\n",
       "      <td>4</td>\n",
       "      <td>1</td>\n",
       "      <td>...</td>\n",
       "      <td>11000</td>\n",
       "      <td>50.5</td>\n",
       "      <td>0</td>\n",
       "      <td>42</td>\n",
       "      <td>0</td>\n",
       "      <td>9</td>\n",
       "      <td>11.25</td>\n",
       "      <td>11.25</td>\n",
       "      <td>1</td>\n",
       "      <td>1</td>\n",
       "    </tr>\n",
       "  </tbody>\n",
       "</table>\n",
       "<p>5 rows × 38 columns</p>\n",
       "</div>"
      ],
      "text/plain": [
       "   PPSORT  AGEIMM  BedRm  CMA  CONDO  COW  DIST  GENSTAT  HHSIZE  IMMCAT5  \\\n",
       "0  218995       9      1  835      1    4     7        1       2       21   \n",
       "1  671467       0      3  933      0    1     7        3       5        1   \n",
       "2  112607       0      2  462      0    1    22        2       3        1   \n",
       "3  153693       9      2  535      0    1    12        1       4       21   \n",
       "4  468158       0      2  535      0    1     2        2       4        1   \n",
       "\n",
       "   ...  Wages  WKSWRK  aboriginal  age  STEM  YrEd  PrMinWage_V  \\\n",
       "0  ...   2000    44.0           0   47     0    18        11.20   \n",
       "1  ...  28000    50.5           0   37     0    14        10.45   \n",
       "2  ...  36000    50.5           0   27     1    13        10.75   \n",
       "3  ...  80000    50.5           0   52     0    14        11.25   \n",
       "4  ...  11000    50.5           0   42     0     9        11.25   \n",
       "\n",
       "   PrMinWage_Vstat  PartTime  Married  \n",
       "0            11.20         0        1  \n",
       "1            10.45         0        1  \n",
       "2            10.75         0        1  \n",
       "3            11.25         0        1  \n",
       "4            11.25         1        1  \n",
       "\n",
       "[5 rows x 38 columns]"
      ]
     },
     "execution_count": 2,
     "metadata": {},
     "output_type": "execute_result"
    }
   ],
   "source": [
    "df = pd.read_csv('data_withID.csv')\n",
    "df.head()"
   ]
  },
  {
   "cell_type": "code",
   "execution_count": 3,
   "metadata": {},
   "outputs": [],
   "source": [
    "#Mincer earnings function\n",
    "df[\"YrEd2\"] = df[\"YrEd\"]^2"
   ]
  },
  {
   "cell_type": "code",
   "execution_count": 4,
   "metadata": {},
   "outputs": [
    {
     "data": {
      "text/plain": [
       "Index(['PPSORT', 'AGEIMM', 'BedRm', 'CMA', 'CONDO', 'COW', 'DIST', 'GENSTAT',\n",
       "       'HHSIZE', 'IMMCAT5', 'MODE', 'MTNEn', 'MTNFr', 'NAICS', 'NOC16', 'NOCS',\n",
       "       'PKIDS', 'POWST', 'PR', 'PRIHM', 'PWDUR', 'PWLEAVE', 'ROOMS', 'Sex',\n",
       "       'SHELCO', 'Subsidy', 'Tenur', 'VisMin', 'Wages', 'WKSWRK', 'aboriginal',\n",
       "       'age', 'STEM', 'YrEd', 'PrMinWage_V', 'PrMinWage_Vstat', 'PartTime',\n",
       "       'Married', 'YrEd2'],\n",
       "      dtype='object')"
      ]
     },
     "execution_count": 4,
     "metadata": {},
     "output_type": "execute_result"
    }
   ],
   "source": [
    "df.columns"
   ]
  },
  {
   "cell_type": "code",
   "execution_count": 5,
   "metadata": {},
   "outputs": [],
   "source": [
    "y = df[\"Wages\"]\n",
    "X = df[['age','YrEd','YrEd2','STEM','PrMinWage_V','PartTime','Sex','VisMin','Married']]"
   ]
  },
  {
   "cell_type": "code",
   "execution_count": 6,
   "metadata": {},
   "outputs": [],
   "source": [
    "#get_dummies_CMA\n",
    "dummies_CMA = pd.get_dummies(df.CMA)\n",
    "CMA_dummies = dummies_CMA.set_axis([\"Halifax\",\"Moncton – Saint John\",\"Québec\",\"Montréal\",\n",
    "                                    \"Sherbrooke – Trois-Rivières\",\"Ottawa – Gatineau\",\"Oshawa\",\n",
    "                                    \"Toronto\",\"Hamilton\",\"St. Catharines – Niagara\",\n",
    "                                    \"Kitchener – Cambridge – Waterloo\",\"London\",\"Windsor\",\n",
    "                                    \"Brantford – Guelph – Barrie\",\"Kingston – Peterborough\",\n",
    "                                    \"Greater Sudbury / Grand Sudbury – Thunder Bay\",\"Winnipeg\",\n",
    "                                    \"Regina – Saskatoon\",\"Calgary\",\"Edmonton\",\"Vancouver\",\n",
    "                                    \"Victoria\",\"Kelowna – Abbotsford\",\"Non-CMA\"], axis=1, inplace=False)\n",
    "#X = X.join(CMA_dummies)"
   ]
  },
  {
   "cell_type": "code",
   "execution_count": 7,
   "metadata": {},
   "outputs": [],
   "source": [
    "#get_dummies_NOC16\n",
    "dummies_NOC16 = pd.get_dummies(df.NOC16)\n",
    "#X = X.join(dummies_NOC16)"
   ]
  },
  {
   "cell_type": "code",
   "execution_count": 8,
   "metadata": {},
   "outputs": [
    {
     "data": {
      "text/plain": [
       "Index(['age', 'YrEd', 'YrEd2', 'STEM', 'PrMinWage_V', 'PartTime', 'Sex',\n",
       "       'VisMin', 'Married'],\n",
       "      dtype='object')"
      ]
     },
     "execution_count": 8,
     "metadata": {},
     "output_type": "execute_result"
    }
   ],
   "source": [
    "X.columns"
   ]
  },
  {
   "cell_type": "markdown",
   "metadata": {},
   "source": [
    "\n",
    "Regression\n"
   ]
  },
  {
   "cell_type": "code",
   "execution_count": 9,
   "metadata": {},
   "outputs": [],
   "source": [
    "model = LinearRegression()"
   ]
  },
  {
   "cell_type": "code",
   "execution_count": 10,
   "metadata": {},
   "outputs": [
    {
     "data": {
      "text/plain": [
       "LinearRegression()"
      ]
     },
     "execution_count": 10,
     "metadata": {},
     "output_type": "execute_result"
    }
   ],
   "source": [
    "model.fit(X,y)"
   ]
  },
  {
   "cell_type": "code",
   "execution_count": 11,
   "metadata": {},
   "outputs": [
    {
     "name": "stdout",
     "output_type": "stream",
     "text": [
      "(11256,)\n"
     ]
    }
   ],
   "source": [
    "y_pred = model.predict(X)\n",
    "print(y_pred.shape)"
   ]
  },
  {
   "cell_type": "code",
   "execution_count": 12,
   "metadata": {},
   "outputs": [
    {
     "name": "stdout",
     "output_type": "stream",
     "text": [
      "[ 4.73502484e+02  2.10767846e+03  2.15573026e+01  6.69407038e+03\n",
      "  5.81970392e+03 -2.15802949e+04  1.02770327e+04 -8.70971748e+03\n",
      "  3.38089591e+03]\n"
     ]
    }
   ],
   "source": [
    "print(model.coef_)"
   ]
  },
  {
   "cell_type": "code",
   "execution_count": 13,
   "metadata": {},
   "outputs": [
    {
     "data": {
      "text/plain": [
       "-73127.78012214354"
      ]
     },
     "execution_count": 13,
     "metadata": {},
     "output_type": "execute_result"
    }
   ],
   "source": [
    "model.intercept_"
   ]
  },
  {
   "cell_type": "code",
   "execution_count": 14,
   "metadata": {},
   "outputs": [],
   "source": [
    "variable = pd.DataFrame(X.columns)\n",
    "coefficient = pd.DataFrame(model.coef_)"
   ]
  },
  {
   "cell_type": "code",
   "execution_count": 15,
   "metadata": {},
   "outputs": [],
   "source": [
    "coefficient = pd.DataFrame(list(zip(X.columns, model.coef_)),\n",
    "               columns =['variable', 'coefficient'])\n",
    "intercept_df = pd.DataFrame({'variable': [\"Intercept\"],'coefficient': [model.intercept_]})\n",
    "result = coefficient.append(intercept_df)"
   ]
  },
  {
   "cell_type": "code",
   "execution_count": 16,
   "metadata": {
    "scrolled": true
   },
   "outputs": [
    {
     "data": {
      "text/html": [
       "<div>\n",
       "<style scoped>\n",
       "    .dataframe tbody tr th:only-of-type {\n",
       "        vertical-align: middle;\n",
       "    }\n",
       "\n",
       "    .dataframe tbody tr th {\n",
       "        vertical-align: top;\n",
       "    }\n",
       "\n",
       "    .dataframe thead th {\n",
       "        text-align: right;\n",
       "    }\n",
       "</style>\n",
       "<table border=\"1\" class=\"dataframe\">\n",
       "  <thead>\n",
       "    <tr style=\"text-align: right;\">\n",
       "      <th></th>\n",
       "      <th>variable</th>\n",
       "      <th>coefficient</th>\n",
       "    </tr>\n",
       "  </thead>\n",
       "  <tbody>\n",
       "    <tr>\n",
       "      <th>0</th>\n",
       "      <td>age</td>\n",
       "      <td>473.502484</td>\n",
       "    </tr>\n",
       "    <tr>\n",
       "      <th>1</th>\n",
       "      <td>YrEd</td>\n",
       "      <td>2107.678459</td>\n",
       "    </tr>\n",
       "    <tr>\n",
       "      <th>2</th>\n",
       "      <td>YrEd2</td>\n",
       "      <td>21.557303</td>\n",
       "    </tr>\n",
       "    <tr>\n",
       "      <th>3</th>\n",
       "      <td>STEM</td>\n",
       "      <td>6694.070381</td>\n",
       "    </tr>\n",
       "    <tr>\n",
       "      <th>4</th>\n",
       "      <td>PrMinWage_V</td>\n",
       "      <td>5819.703917</td>\n",
       "    </tr>\n",
       "    <tr>\n",
       "      <th>5</th>\n",
       "      <td>PartTime</td>\n",
       "      <td>-21580.294910</td>\n",
       "    </tr>\n",
       "    <tr>\n",
       "      <th>6</th>\n",
       "      <td>Sex</td>\n",
       "      <td>10277.032704</td>\n",
       "    </tr>\n",
       "    <tr>\n",
       "      <th>7</th>\n",
       "      <td>VisMin</td>\n",
       "      <td>-8709.717485</td>\n",
       "    </tr>\n",
       "    <tr>\n",
       "      <th>8</th>\n",
       "      <td>Married</td>\n",
       "      <td>3380.895913</td>\n",
       "    </tr>\n",
       "    <tr>\n",
       "      <th>0</th>\n",
       "      <td>Intercept</td>\n",
       "      <td>-73127.780122</td>\n",
       "    </tr>\n",
       "  </tbody>\n",
       "</table>\n",
       "</div>"
      ],
      "text/plain": [
       "      variable   coefficient\n",
       "0          age    473.502484\n",
       "1         YrEd   2107.678459\n",
       "2        YrEd2     21.557303\n",
       "3         STEM   6694.070381\n",
       "4  PrMinWage_V   5819.703917\n",
       "5     PartTime -21580.294910\n",
       "6          Sex  10277.032704\n",
       "7       VisMin  -8709.717485\n",
       "8      Married   3380.895913\n",
       "0    Intercept -73127.780122"
      ]
     },
     "execution_count": 16,
     "metadata": {},
     "output_type": "execute_result"
    }
   ],
   "source": [
    "#result['coefficient'] = result['coefficient'].apply(lambda x:'%.08f' % x)\n",
    "result"
   ]
  },
  {
   "cell_type": "code",
   "execution_count": null,
   "metadata": {},
   "outputs": [],
   "source": [
    "q_age = int(input(\"enter your age: \"))\n",
    "q_YrEd = int(input(\"enter your total education years: \"))\n",
    "q_STEM = int(input(\"enter \\'1\\' if your field of study was considered to be STEM: \"))\n",
    "q_PrMInWage = float(input(\"enter the minimum wage in your location: \"))\n",
    "q_PartTime = int(input(\"enter \\'1\\' if you are part time worker: \"))\n",
    "q_Sex = int(input(\"enter \\'1\\' if you identify as male: \"))\n",
    "q_Married = int(input(\"enter \\'1\\' if you are currently in an marriage: \"))\n",
    "wage_predicted = (model.intercept_ + \n",
    "                  q_age*model.coef_[0] +\n",
    "                  q_YrEd*model.coef_[1] +\n",
    "                  (q_YrEd^2)*model.coef_[2] +\n",
    "                  q_STEM*model.coef_[3] +\n",
    "                  q_PrMInWage*model.coef_[4] +\n",
    "                  q_PartTime*model.coef_[5] +\n",
    "                  q_Sex*model.coef_[6] +\n",
    "                  q_Married*model.coef_[7])\n",
    "print(\"Your predicted yearly wage is: $\" + str(wage_predicted))"
   ]
  },
  {
   "cell_type": "code",
   "execution_count": null,
   "metadata": {},
   "outputs": [],
   "source": []
  }
 ],
 "metadata": {
  "kernelspec": {
   "display_name": "mlenv",
   "language": "python",
   "name": "mlenv"
  },
  "language_info": {
   "codemirror_mode": {
    "name": "ipython",
    "version": 3
   },
   "file_extension": ".py",
   "mimetype": "text/x-python",
   "name": "python",
   "nbconvert_exporter": "python",
   "pygments_lexer": "ipython3",
   "version": "3.7.10"
  }
 },
 "nbformat": 4,
 "nbformat_minor": 4
}
