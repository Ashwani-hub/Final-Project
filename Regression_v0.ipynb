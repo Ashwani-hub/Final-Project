{
 "cells": [
  {
   "cell_type": "code",
   "execution_count": 1,
   "metadata": {},
   "outputs": [],
   "source": [
    "import pandas as pd\n",
    "from pathlib import Path\n",
    "import matplotlib.pyplot as plt\n",
    "from sklearn.linear_model import LinearRegression"
   ]
  },
  {
   "cell_type": "code",
   "execution_count": 2,
   "metadata": {},
   "outputs": [
    {
     "data": {
      "text/html": [
       "<div>\n",
       "<style scoped>\n",
       "    .dataframe tbody tr th:only-of-type {\n",
       "        vertical-align: middle;\n",
       "    }\n",
       "\n",
       "    .dataframe tbody tr th {\n",
       "        vertical-align: top;\n",
       "    }\n",
       "\n",
       "    .dataframe thead th {\n",
       "        text-align: right;\n",
       "    }\n",
       "</style>\n",
       "<table border=\"1\" class=\"dataframe\">\n",
       "  <thead>\n",
       "    <tr style=\"text-align: right;\">\n",
       "      <th></th>\n",
       "      <th>PPSORT</th>\n",
       "      <th>AGEIMM</th>\n",
       "      <th>BedRm</th>\n",
       "      <th>CMA</th>\n",
       "      <th>CONDO</th>\n",
       "      <th>COW</th>\n",
       "      <th>DIST</th>\n",
       "      <th>GENSTAT</th>\n",
       "      <th>HHSIZE</th>\n",
       "      <th>IMMCAT5</th>\n",
       "      <th>...</th>\n",
       "      <th>Wages</th>\n",
       "      <th>WKSWRK</th>\n",
       "      <th>aboriginal</th>\n",
       "      <th>age</th>\n",
       "      <th>STEM</th>\n",
       "      <th>YrEd</th>\n",
       "      <th>PrMinWage_V</th>\n",
       "      <th>PrMinWage_Vstat</th>\n",
       "      <th>PartTime</th>\n",
       "      <th>Married</th>\n",
       "    </tr>\n",
       "  </thead>\n",
       "  <tbody>\n",
       "    <tr>\n",
       "      <th>0</th>\n",
       "      <td>218995</td>\n",
       "      <td>9</td>\n",
       "      <td>1</td>\n",
       "      <td>835</td>\n",
       "      <td>1</td>\n",
       "      <td>4</td>\n",
       "      <td>7</td>\n",
       "      <td>1</td>\n",
       "      <td>2</td>\n",
       "      <td>21</td>\n",
       "      <td>...</td>\n",
       "      <td>2000</td>\n",
       "      <td>44.0</td>\n",
       "      <td>0</td>\n",
       "      <td>47</td>\n",
       "      <td>0</td>\n",
       "      <td>18</td>\n",
       "      <td>11.20</td>\n",
       "      <td>11.20</td>\n",
       "      <td>0</td>\n",
       "      <td>1</td>\n",
       "    </tr>\n",
       "    <tr>\n",
       "      <th>1</th>\n",
       "      <td>671467</td>\n",
       "      <td>0</td>\n",
       "      <td>3</td>\n",
       "      <td>933</td>\n",
       "      <td>0</td>\n",
       "      <td>1</td>\n",
       "      <td>7</td>\n",
       "      <td>3</td>\n",
       "      <td>5</td>\n",
       "      <td>1</td>\n",
       "      <td>...</td>\n",
       "      <td>28000</td>\n",
       "      <td>50.5</td>\n",
       "      <td>0</td>\n",
       "      <td>37</td>\n",
       "      <td>0</td>\n",
       "      <td>14</td>\n",
       "      <td>10.45</td>\n",
       "      <td>10.45</td>\n",
       "      <td>0</td>\n",
       "      <td>1</td>\n",
       "    </tr>\n",
       "    <tr>\n",
       "      <th>2</th>\n",
       "      <td>112607</td>\n",
       "      <td>0</td>\n",
       "      <td>2</td>\n",
       "      <td>462</td>\n",
       "      <td>0</td>\n",
       "      <td>1</td>\n",
       "      <td>22</td>\n",
       "      <td>2</td>\n",
       "      <td>3</td>\n",
       "      <td>1</td>\n",
       "      <td>...</td>\n",
       "      <td>36000</td>\n",
       "      <td>50.5</td>\n",
       "      <td>0</td>\n",
       "      <td>27</td>\n",
       "      <td>1</td>\n",
       "      <td>13</td>\n",
       "      <td>10.75</td>\n",
       "      <td>10.75</td>\n",
       "      <td>0</td>\n",
       "      <td>1</td>\n",
       "    </tr>\n",
       "    <tr>\n",
       "      <th>3</th>\n",
       "      <td>153693</td>\n",
       "      <td>9</td>\n",
       "      <td>2</td>\n",
       "      <td>535</td>\n",
       "      <td>0</td>\n",
       "      <td>1</td>\n",
       "      <td>12</td>\n",
       "      <td>1</td>\n",
       "      <td>4</td>\n",
       "      <td>21</td>\n",
       "      <td>...</td>\n",
       "      <td>80000</td>\n",
       "      <td>50.5</td>\n",
       "      <td>0</td>\n",
       "      <td>52</td>\n",
       "      <td>0</td>\n",
       "      <td>14</td>\n",
       "      <td>11.25</td>\n",
       "      <td>11.25</td>\n",
       "      <td>0</td>\n",
       "      <td>1</td>\n",
       "    </tr>\n",
       "    <tr>\n",
       "      <th>4</th>\n",
       "      <td>468158</td>\n",
       "      <td>0</td>\n",
       "      <td>2</td>\n",
       "      <td>535</td>\n",
       "      <td>0</td>\n",
       "      <td>1</td>\n",
       "      <td>2</td>\n",
       "      <td>2</td>\n",
       "      <td>4</td>\n",
       "      <td>1</td>\n",
       "      <td>...</td>\n",
       "      <td>11000</td>\n",
       "      <td>50.5</td>\n",
       "      <td>0</td>\n",
       "      <td>42</td>\n",
       "      <td>0</td>\n",
       "      <td>9</td>\n",
       "      <td>11.25</td>\n",
       "      <td>11.25</td>\n",
       "      <td>1</td>\n",
       "      <td>1</td>\n",
       "    </tr>\n",
       "  </tbody>\n",
       "</table>\n",
       "<p>5 rows × 38 columns</p>\n",
       "</div>"
      ],
      "text/plain": [
       "   PPSORT  AGEIMM  BedRm  CMA  CONDO  COW  DIST  GENSTAT  HHSIZE  IMMCAT5  \\\n",
       "0  218995       9      1  835      1    4     7        1       2       21   \n",
       "1  671467       0      3  933      0    1     7        3       5        1   \n",
       "2  112607       0      2  462      0    1    22        2       3        1   \n",
       "3  153693       9      2  535      0    1    12        1       4       21   \n",
       "4  468158       0      2  535      0    1     2        2       4        1   \n",
       "\n",
       "   ...  Wages  WKSWRK  aboriginal  age  STEM  YrEd  PrMinWage_V  \\\n",
       "0  ...   2000    44.0           0   47     0    18        11.20   \n",
       "1  ...  28000    50.5           0   37     0    14        10.45   \n",
       "2  ...  36000    50.5           0   27     1    13        10.75   \n",
       "3  ...  80000    50.5           0   52     0    14        11.25   \n",
       "4  ...  11000    50.5           0   42     0     9        11.25   \n",
       "\n",
       "   PrMinWage_Vstat  PartTime  Married  \n",
       "0            11.20         0        1  \n",
       "1            10.45         0        1  \n",
       "2            10.75         0        1  \n",
       "3            11.25         0        1  \n",
       "4            11.25         1        1  \n",
       "\n",
       "[5 rows x 38 columns]"
      ]
     },
     "execution_count": 2,
     "metadata": {},
     "output_type": "execute_result"
    }
   ],
   "source": [
    "df = pd.read_csv('data_withID.csv')\n",
    "df.head()"
   ]
  },
  {
   "cell_type": "code",
   "execution_count": 3,
   "metadata": {},
   "outputs": [],
   "source": [
    "#Mincer earnings function\n",
    "df[\"YrEd2\"]=df[\"YrEd\"]^2"
   ]
  },
  {
   "cell_type": "code",
   "execution_count": 4,
   "metadata": {},
   "outputs": [
    {
     "data": {
      "text/plain": [
       "Index(['PPSORT', 'AGEIMM', 'BedRm', 'CMA', 'CONDO', 'COW', 'DIST', 'GENSTAT',\n",
       "       'HHSIZE', 'IMMCAT5', 'MODE', 'MTNEn', 'MTNFr', 'NAICS', 'NOC16', 'NOCS',\n",
       "       'PKIDS', 'POWST', 'PR', 'PRIHM', 'PWDUR', 'PWLEAVE', 'ROOMS', 'Sex',\n",
       "       'SHELCO', 'Subsidy', 'Tenur', 'VisMin', 'Wages', 'WKSWRK', 'aboriginal',\n",
       "       'age', 'STEM', 'YrEd', 'PrMinWage_V', 'PrMinWage_Vstat', 'PartTime',\n",
       "       'Married', 'YrEd2'],\n",
       "      dtype='object')"
      ]
     },
     "execution_count": 4,
     "metadata": {},
     "output_type": "execute_result"
    }
   ],
   "source": [
    "df.columns"
   ]
  },
  {
   "cell_type": "code",
   "execution_count": 5,
   "metadata": {},
   "outputs": [],
   "source": [
    "y = df[\"Wages\"]\n",
    "X = df[['age','YrEd','YrEd2','STEM','PrMinWage_V','PartTime','Sex','Married']]"
   ]
  },
  {
   "cell_type": "code",
   "execution_count": 6,
   "metadata": {},
   "outputs": [],
   "source": [
    "#get_dummies_CMA\n",
    "dummies_CMA = pd.get_dummies(df.CMA)\n",
    "X = X.join(dummies_CMA)"
   ]
  },
  {
   "cell_type": "code",
   "execution_count": 7,
   "metadata": {},
   "outputs": [],
   "source": [
    "#get_dummies_NOC16\n",
    "dummies_NOC16 = pd.get_dummies(df.NOC16)\n",
    "X = X.join(dummies_NOC16)"
   ]
  },
  {
   "cell_type": "code",
   "execution_count": 8,
   "metadata": {},
   "outputs": [
    {
     "data": {
      "text/plain": [
       "Index([        'age',        'YrEd',       'YrEd2',        'STEM',\n",
       "       'PrMinWage_V',    'PartTime',         'Sex',     'Married',\n",
       "                 205,           399,           421,           462,\n",
       "                 499,           505,           532,           535,\n",
       "                 537,           539,           541,           555,\n",
       "                 559,           577,           588,           599,\n",
       "                 602,           799,           825,           835,\n",
       "                 933,           935,           988,           999,\n",
       "                   1,             2,             3,             4,\n",
       "                   5,             6,             7,             8,\n",
       "                   9,            10,            11,            12,\n",
       "                  13,            14,            15,            16,\n",
       "                  17,            18,            19,            20,\n",
       "                  21,            22,            23,            24,\n",
       "                  25,            26,            27,            28,\n",
       "                  29,            30,            88],\n",
       "      dtype='object')"
      ]
     },
     "execution_count": 8,
     "metadata": {},
     "output_type": "execute_result"
    }
   ],
   "source": [
    "X.columns"
   ]
  },
  {
   "cell_type": "markdown",
   "metadata": {},
   "source": [
    "\n",
    "Regression\n"
   ]
  },
  {
   "cell_type": "code",
   "execution_count": 9,
   "metadata": {},
   "outputs": [],
   "source": [
    "model = LinearRegression()"
   ]
  },
  {
   "cell_type": "code",
   "execution_count": 10,
   "metadata": {},
   "outputs": [
    {
     "data": {
      "text/plain": [
       "LinearRegression()"
      ]
     },
     "execution_count": 10,
     "metadata": {},
     "output_type": "execute_result"
    }
   ],
   "source": [
    "model.fit(X,y)"
   ]
  },
  {
   "cell_type": "code",
   "execution_count": 11,
   "metadata": {},
   "outputs": [
    {
     "name": "stdout",
     "output_type": "stream",
     "text": [
      "(11256,)\n"
     ]
    }
   ],
   "source": [
    "y_pred = model.predict(X)\n",
    "print(y_pred.shape)"
   ]
  },
  {
   "cell_type": "code",
   "execution_count": 12,
   "metadata": {},
   "outputs": [
    {
     "name": "stdout",
     "output_type": "stream",
     "text": [
      "[ 4.36880443e+02  7.70718003e+02 -3.40638943e+01  2.46320888e+03\n",
      "  8.31748375e+03 -1.81859013e+04  1.04499502e+04  1.69487170e+03\n",
      "  2.24106556e+14  2.24106556e+14  2.24106556e+14  2.24106556e+14\n",
      "  2.24106556e+14  2.24106556e+14  2.24106556e+14  2.24106556e+14\n",
      "  2.24106556e+14  2.24106556e+14  2.24106556e+14  2.24106556e+14\n",
      "  2.24106556e+14  2.24106556e+14  2.24106556e+14  2.24106556e+14\n",
      "  2.24106556e+14  2.24106556e+14  2.24106556e+14  2.24106556e+14\n",
      "  2.24106556e+14  2.24106556e+14  2.24106556e+14  2.24106556e+14\n",
      " -3.76228904e+14 -3.76228904e+14 -3.76228904e+14 -3.76228904e+14\n",
      " -3.76228904e+14 -3.76228904e+14 -3.76228904e+14 -3.76228904e+14\n",
      " -3.76228904e+14 -3.76228904e+14 -3.76228904e+14 -3.76228904e+14\n",
      " -3.76228904e+14 -3.76228904e+14 -3.76228904e+14 -3.76228904e+14\n",
      " -3.76228904e+14 -3.76228904e+14 -3.76228904e+14 -3.76228904e+14\n",
      " -3.76228904e+14 -3.76228904e+14 -3.76228904e+14 -3.76228904e+14\n",
      " -3.76228904e+14 -3.76228904e+14 -3.76228904e+14 -3.76228904e+14\n",
      " -3.76228904e+14 -3.76228904e+14 -3.76228904e+14]\n"
     ]
    }
   ],
   "source": [
    "print(model.coef_)"
   ]
  },
  {
   "cell_type": "code",
   "execution_count": 13,
   "metadata": {},
   "outputs": [
    {
     "name": "stdout",
     "output_type": "stream",
     "text": [
      "152122348107594.6\n"
     ]
    }
   ],
   "source": [
    "print(model.intercept_)"
   ]
  },
  {
   "cell_type": "code",
   "execution_count": null,
   "metadata": {},
   "outputs": [],
   "source": []
  }
 ],
 "metadata": {
  "kernelspec": {
   "display_name": "mlenv",
   "language": "python",
   "name": "mlenv"
  },
  "language_info": {
   "codemirror_mode": {
    "name": "ipython",
    "version": 3
   },
   "file_extension": ".py",
   "mimetype": "text/x-python",
   "name": "python",
   "nbconvert_exporter": "python",
   "pygments_lexer": "ipython3",
   "version": "3.7.10"
  }
 },
 "nbformat": 4,
 "nbformat_minor": 4
}
