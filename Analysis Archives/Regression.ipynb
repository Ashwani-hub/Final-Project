{
 "cells": [
  {
   "cell_type": "code",
   "execution_count": 1,
   "source": [
    "import pandas as pd\r\n",
    "from pathlib import Path\r\n",
    "import matplotlib.pyplot as plt\r\n",
    "from sklearn.linear_model import LinearRegression"
   ],
   "outputs": [],
   "metadata": {}
  },
  {
   "cell_type": "code",
   "execution_count": 2,
   "source": [
    "df = pd.read_csv('Resources/data_withID.csv')\r\n",
    "df.head()"
   ],
   "outputs": [
    {
     "output_type": "execute_result",
     "data": {
      "text/html": [
       "<div>\n",
       "<style scoped>\n",
       "    .dataframe tbody tr th:only-of-type {\n",
       "        vertical-align: middle;\n",
       "    }\n",
       "\n",
       "    .dataframe tbody tr th {\n",
       "        vertical-align: top;\n",
       "    }\n",
       "\n",
       "    .dataframe thead th {\n",
       "        text-align: right;\n",
       "    }\n",
       "</style>\n",
       "<table border=\"1\" class=\"dataframe\">\n",
       "  <thead>\n",
       "    <tr style=\"text-align: right;\">\n",
       "      <th></th>\n",
       "      <th>PPSORT</th>\n",
       "      <th>AGEIMM</th>\n",
       "      <th>BedRm</th>\n",
       "      <th>CMA</th>\n",
       "      <th>CONDO</th>\n",
       "      <th>COW</th>\n",
       "      <th>DIST</th>\n",
       "      <th>GENSTAT</th>\n",
       "      <th>HHSIZE</th>\n",
       "      <th>IMMCAT5</th>\n",
       "      <th>...</th>\n",
       "      <th>Wages</th>\n",
       "      <th>WKSWRK</th>\n",
       "      <th>aboriginal</th>\n",
       "      <th>age</th>\n",
       "      <th>STEM</th>\n",
       "      <th>YrEd</th>\n",
       "      <th>PrMinWage_V</th>\n",
       "      <th>PrMinWage_Vstat</th>\n",
       "      <th>PartTime</th>\n",
       "      <th>Married</th>\n",
       "    </tr>\n",
       "  </thead>\n",
       "  <tbody>\n",
       "    <tr>\n",
       "      <th>0</th>\n",
       "      <td>218995</td>\n",
       "      <td>9</td>\n",
       "      <td>1</td>\n",
       "      <td>835</td>\n",
       "      <td>1</td>\n",
       "      <td>4</td>\n",
       "      <td>7</td>\n",
       "      <td>1</td>\n",
       "      <td>2</td>\n",
       "      <td>21</td>\n",
       "      <td>...</td>\n",
       "      <td>2000</td>\n",
       "      <td>44.0</td>\n",
       "      <td>0</td>\n",
       "      <td>47</td>\n",
       "      <td>0</td>\n",
       "      <td>18</td>\n",
       "      <td>11.20</td>\n",
       "      <td>11.20</td>\n",
       "      <td>0</td>\n",
       "      <td>1</td>\n",
       "    </tr>\n",
       "    <tr>\n",
       "      <th>1</th>\n",
       "      <td>671467</td>\n",
       "      <td>0</td>\n",
       "      <td>3</td>\n",
       "      <td>933</td>\n",
       "      <td>0</td>\n",
       "      <td>1</td>\n",
       "      <td>7</td>\n",
       "      <td>3</td>\n",
       "      <td>5</td>\n",
       "      <td>1</td>\n",
       "      <td>...</td>\n",
       "      <td>28000</td>\n",
       "      <td>50.5</td>\n",
       "      <td>0</td>\n",
       "      <td>37</td>\n",
       "      <td>0</td>\n",
       "      <td>14</td>\n",
       "      <td>10.45</td>\n",
       "      <td>10.45</td>\n",
       "      <td>0</td>\n",
       "      <td>1</td>\n",
       "    </tr>\n",
       "    <tr>\n",
       "      <th>2</th>\n",
       "      <td>112607</td>\n",
       "      <td>0</td>\n",
       "      <td>2</td>\n",
       "      <td>462</td>\n",
       "      <td>0</td>\n",
       "      <td>1</td>\n",
       "      <td>22</td>\n",
       "      <td>2</td>\n",
       "      <td>3</td>\n",
       "      <td>1</td>\n",
       "      <td>...</td>\n",
       "      <td>36000</td>\n",
       "      <td>50.5</td>\n",
       "      <td>0</td>\n",
       "      <td>27</td>\n",
       "      <td>1</td>\n",
       "      <td>13</td>\n",
       "      <td>10.75</td>\n",
       "      <td>10.75</td>\n",
       "      <td>0</td>\n",
       "      <td>1</td>\n",
       "    </tr>\n",
       "    <tr>\n",
       "      <th>3</th>\n",
       "      <td>153693</td>\n",
       "      <td>9</td>\n",
       "      <td>2</td>\n",
       "      <td>535</td>\n",
       "      <td>0</td>\n",
       "      <td>1</td>\n",
       "      <td>12</td>\n",
       "      <td>1</td>\n",
       "      <td>4</td>\n",
       "      <td>21</td>\n",
       "      <td>...</td>\n",
       "      <td>80000</td>\n",
       "      <td>50.5</td>\n",
       "      <td>0</td>\n",
       "      <td>52</td>\n",
       "      <td>0</td>\n",
       "      <td>14</td>\n",
       "      <td>11.25</td>\n",
       "      <td>11.25</td>\n",
       "      <td>0</td>\n",
       "      <td>1</td>\n",
       "    </tr>\n",
       "    <tr>\n",
       "      <th>4</th>\n",
       "      <td>468158</td>\n",
       "      <td>0</td>\n",
       "      <td>2</td>\n",
       "      <td>535</td>\n",
       "      <td>0</td>\n",
       "      <td>1</td>\n",
       "      <td>2</td>\n",
       "      <td>2</td>\n",
       "      <td>4</td>\n",
       "      <td>1</td>\n",
       "      <td>...</td>\n",
       "      <td>11000</td>\n",
       "      <td>50.5</td>\n",
       "      <td>0</td>\n",
       "      <td>42</td>\n",
       "      <td>0</td>\n",
       "      <td>9</td>\n",
       "      <td>11.25</td>\n",
       "      <td>11.25</td>\n",
       "      <td>1</td>\n",
       "      <td>1</td>\n",
       "    </tr>\n",
       "  </tbody>\n",
       "</table>\n",
       "<p>5 rows × 38 columns</p>\n",
       "</div>"
      ],
      "text/plain": [
       "   PPSORT  AGEIMM  BedRm  CMA  CONDO  COW  DIST  GENSTAT  HHSIZE  IMMCAT5  \\\n",
       "0  218995       9      1  835      1    4     7        1       2       21   \n",
       "1  671467       0      3  933      0    1     7        3       5        1   \n",
       "2  112607       0      2  462      0    1    22        2       3        1   \n",
       "3  153693       9      2  535      0    1    12        1       4       21   \n",
       "4  468158       0      2  535      0    1     2        2       4        1   \n",
       "\n",
       "   ...  Wages  WKSWRK  aboriginal  age  STEM  YrEd  PrMinWage_V  \\\n",
       "0  ...   2000    44.0           0   47     0    18        11.20   \n",
       "1  ...  28000    50.5           0   37     0    14        10.45   \n",
       "2  ...  36000    50.5           0   27     1    13        10.75   \n",
       "3  ...  80000    50.5           0   52     0    14        11.25   \n",
       "4  ...  11000    50.5           0   42     0     9        11.25   \n",
       "\n",
       "   PrMinWage_Vstat  PartTime  Married  \n",
       "0            11.20         0        1  \n",
       "1            10.45         0        1  \n",
       "2            10.75         0        1  \n",
       "3            11.25         0        1  \n",
       "4            11.25         1        1  \n",
       "\n",
       "[5 rows x 38 columns]"
      ]
     },
     "metadata": {},
     "execution_count": 2
    }
   ],
   "metadata": {}
  },
  {
   "cell_type": "code",
   "execution_count": 3,
   "source": [
    "#Mincer earnings function\r\n",
    "df[\"YrEd2\"]=df[\"YrEd\"]^2"
   ],
   "outputs": [],
   "metadata": {}
  },
  {
   "cell_type": "code",
   "execution_count": 4,
   "source": [
    "df.columns"
   ],
   "outputs": [
    {
     "output_type": "execute_result",
     "data": {
      "text/plain": [
       "Index(['PPSORT', 'AGEIMM', 'BedRm', 'CMA', 'CONDO', 'COW', 'DIST', 'GENSTAT',\n",
       "       'HHSIZE', 'IMMCAT5', 'MODE', 'MTNEn', 'MTNFr', 'NAICS', 'NOC16', 'NOCS',\n",
       "       'PKIDS', 'POWST', 'PR', 'PRIHM', 'PWDUR', 'PWLEAVE', 'ROOMS', 'Sex',\n",
       "       'SHELCO', 'Subsidy', 'Tenur', 'VisMin', 'Wages', 'WKSWRK', 'aboriginal',\n",
       "       'age', 'STEM', 'YrEd', 'PrMinWage_V', 'PrMinWage_Vstat', 'PartTime',\n",
       "       'Married', 'YrEd2'],\n",
       "      dtype='object')"
      ]
     },
     "metadata": {},
     "execution_count": 4
    }
   ],
   "metadata": {}
  },
  {
   "cell_type": "code",
   "execution_count": 5,
   "source": [
    "y = df[\"Wages\"]\r\n",
    "X = df[['age','YrEd','YrEd2','STEM','PrMinWage_V','PartTime','Sex','Married']]"
   ],
   "outputs": [],
   "metadata": {}
  },
  {
   "cell_type": "code",
   "execution_count": 6,
   "source": [
    "#get_dummies_CMA\r\n",
    "dummies_CMA = pd.get_dummies(df.CMA)\r\n",
    "X = X.join(dummies_CMA)"
   ],
   "outputs": [],
   "metadata": {}
  },
  {
   "cell_type": "code",
   "execution_count": 7,
   "source": [
    "#get_dummies_NOC16\r\n",
    "dummies_NOC16 = pd.get_dummies(df.NOC16)\r\n",
    "X = X.join(dummies_NOC16)"
   ],
   "outputs": [],
   "metadata": {}
  },
  {
   "cell_type": "code",
   "execution_count": 8,
   "source": [
    "X.columns"
   ],
   "outputs": [
    {
     "output_type": "execute_result",
     "data": {
      "text/plain": [
       "Index([        'age',        'YrEd',       'YrEd2',        'STEM',\n",
       "       'PrMinWage_V',    'PartTime',         'Sex',     'Married',\n",
       "                 205,           399,           421,           462,\n",
       "                 499,           505,           532,           535,\n",
       "                 537,           539,           541,           555,\n",
       "                 559,           577,           588,           599,\n",
       "                 602,           799,           825,           835,\n",
       "                 933,           935,           988,           999,\n",
       "                   1,             2,             3,             4,\n",
       "                   5,             6,             7,             8,\n",
       "                   9,            10,            11,            12,\n",
       "                  13,            14,            15,            16,\n",
       "                  17,            18,            19,            20,\n",
       "                  21,            22,            23,            24,\n",
       "                  25,            26,            27,            28,\n",
       "                  29,            30,            88],\n",
       "      dtype='object')"
      ]
     },
     "metadata": {},
     "execution_count": 8
    }
   ],
   "metadata": {}
  },
  {
   "cell_type": "markdown",
   "source": [
    "\n",
    "Regression\n"
   ],
   "metadata": {}
  },
  {
   "cell_type": "code",
   "execution_count": 9,
   "source": [
    "model = LinearRegression()"
   ],
   "outputs": [],
   "metadata": {}
  },
  {
   "cell_type": "code",
   "execution_count": 10,
   "source": [
    "model.fit(X,y)"
   ],
   "outputs": [
    {
     "output_type": "execute_result",
     "data": {
      "text/plain": [
       "LinearRegression()"
      ]
     },
     "metadata": {},
     "execution_count": 10
    }
   ],
   "metadata": {}
  },
  {
   "cell_type": "code",
   "execution_count": 11,
   "source": [
    "y_pred = model.predict(X)\r\n",
    "print(y_pred.shape)"
   ],
   "outputs": [
    {
     "output_type": "stream",
     "name": "stdout",
     "text": [
      "(11256,)\n"
     ]
    }
   ],
   "metadata": {}
  },
  {
   "cell_type": "code",
   "execution_count": 12,
   "source": [
    "print(model.coef_)"
   ],
   "outputs": [
    {
     "output_type": "stream",
     "name": "stdout",
     "text": [
      "[ 4.36879396e+02  7.70706916e+02 -3.40648857e+01  2.46331875e+03\n",
      "  8.31715129e+03 -1.81858254e+04  1.04500372e+04  1.69487983e+03\n",
      " -6.54558915e+14 -6.54558915e+14 -6.54558915e+14 -6.54558915e+14\n",
      " -6.54558915e+14 -6.54558915e+14 -6.54558915e+14 -6.54558915e+14\n",
      " -6.54558915e+14 -6.54558915e+14 -6.54558915e+14 -6.54558915e+14\n",
      " -6.54558915e+14 -6.54558915e+14 -6.54558915e+14 -6.54558915e+14\n",
      " -6.54558915e+14 -6.54558915e+14 -6.54558915e+14 -6.54558915e+14\n",
      " -6.54558915e+14 -6.54558915e+14 -6.54558915e+14 -6.54558915e+14\n",
      "  4.60587317e+14  4.60587317e+14  4.60587317e+14  4.60587317e+14\n",
      "  4.60587317e+14  4.60587317e+14  4.60587317e+14  4.60587317e+14\n",
      "  4.60587317e+14  4.60587317e+14  4.60587317e+14  4.60587317e+14\n",
      "  4.60587317e+14  4.60587317e+14  4.60587317e+14  4.60587317e+14\n",
      "  4.60587317e+14  4.60587317e+14  4.60587317e+14  4.60587317e+14\n",
      "  4.60587317e+14  4.60587317e+14  4.60587317e+14  4.60587317e+14\n",
      "  4.60587317e+14  4.60587317e+14  4.60587317e+14  4.60587317e+14\n",
      "  4.60587317e+14  4.60587317e+14  4.60587317e+14]\n"
     ]
    }
   ],
   "metadata": {}
  },
  {
   "cell_type": "code",
   "execution_count": 13,
   "source": [
    "print(model.intercept_)"
   ],
   "outputs": [
    {
     "output_type": "stream",
     "name": "stdout",
     "text": [
      "193971597679103.6\n"
     ]
    }
   ],
   "metadata": {}
  },
  {
   "cell_type": "code",
   "execution_count": 20,
   "source": [
    "plt.scatter(X.YrEd2, y_pred)\r\n",
    "plt.plot(X.YrEd2, y_pred, color='red')\r\n",
    "plt.show()"
   ],
   "outputs": [
    {
     "output_type": "display_data",
     "data": {
      "image/png": "[encoded data removed]",
      "text/plain": [
       "<Figure size 432x288 with 1 Axes>"
      ]
     },
     "metadata": {
      "needs_background": "light"
     }
    }
   ],
   "metadata": {}
  }
 ],
 "metadata": {
  "kernelspec": {
   "name": "python3",
   "display_name": "Python 3.7.10 64-bit ('mlenv': conda)"
  },
  "language_info": {
   "codemirror_mode": {
    "name": "ipython",
    "version": 3
   },
   "file_extension": ".py",
   "mimetype": "text/x-python",
   "name": "python",
   "nbconvert_exporter": "python",
   "pygments_lexer": "ipython3",
   "version": "3.7.10"
  },
  "interpreter": {
   "hash": "7491ca388095553b65d0830f747c3d1c4858399ccdbbb1f2ec8c3b1f39fae0ca"
  }
 },
 "nbformat": 4,
 "nbformat_minor": 4
}